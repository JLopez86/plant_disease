{
  "nbformat": 4,
  "nbformat_minor": 0,
  "metadata": {
    "colab": {
      "provenance": [],
      "authorship_tag": "ABX9TyOUiMKcdwwax1t6gEItsbud",
      "include_colab_link": true
    },
    "kernelspec": {
      "name": "python3",
      "display_name": "Python 3"
    },
    "language_info": {
      "name": "python"
    }
  },
  "cells": [
    {
      "cell_type": "markdown",
      "metadata": {
        "id": "view-in-github",
        "colab_type": "text"
      },
      "source": [
        "<a href=\"https://colab.research.google.com/github/JLopez86/plant_disease/blob/main/01_Introduccion.ipynb\" target=\"_parent\"><img src=\"https://colab.research.google.com/assets/colab-badge.svg\" alt=\"Open In Colab\"/></a>"
      ]
    },
    {
      "cell_type": "markdown",
      "source": [
        "#Introducción"
      ],
      "metadata": {
        "id": "H0qIlGROnb6_"
      }
    },
    {
      "cell_type": "markdown",
      "source": [
        "El sector de producción de alimentos y más específicamente el de la agricultura puede verse afectado por la aparición de diversas enfermedades o anomalías en los cultivos que ponen en gran riesgo la seguridad alimentaria de la población mundial. Por lo tanto, la detección y clasificación con precisión de las anomalías presentes en las hojas de los cultivos es altamente necesaria para la toma de decisión en tiempo oportuno.  El objetivo central del presente reporte técnico fue modelar un algoritmo de aprendizaje profundo basado en redes neuronales convolucionales para la detección de enfermedades en hojas de plantas. La metodología empleada fue el desarrollo experimental de diversos modelos de aprendizaje profundo para en primer lugar, entrenar el modelo con los hiperparametros seleccionados como la cantidad de iteraciones, taza de aprendizaje, optimizadores, función de costos y la utilización de técnicas de transformación de datos y aprendizaje transferido sobre el conjunto de datos de enfermedades de plantas previamente recabados y etiquetados. Finalmente se expuso los resultados obtenidos en la predicción de imágenes de validación, constatándose que los mejores resultados fueron obtenidos por los modelos que utilizaron técnicas de aprendizaje transferido."
      ],
      "metadata": {
        "id": "bHBVkgRcnnQZ"
      }
    },
    {
      "cell_type": "markdown",
      "source": [
        "#Descripción de la problemática"
      ],
      "metadata": {
        "id": "0y97UVA5nQ3m"
      }
    },
    {
      "cell_type": "markdown",
      "source": [
        "La agricultura forma parte de una de las actividades que mayor desarrollo económico promueve en los países en vía de desarrollo, en Paraguay, este ha sido y será por mucho tiempo la base económica, social y cultural. Conforme a las perspectivas del PIB 2023, elaborado por el Banco Central del Paraguay, las proyecciones para el año 2023 prevé un crecimiento del 4.5% con una importante contribución del sector agrícola (BCP, 2022).\n",
        "\n",
        "Desde una perspectiva global, el Banco Mundial menciona que la agricultura puede ayudar a reducir la pobreza, aumentar los ingresos y mejorar la seguridad alimentaria para el 80% de los pobres del mundo, contribuyendo enormemente en alcanzar los objetivos de desarrollo mundial (Mundial, 2022).\n",
        "\n",
        "De igual manera, la Organización de las Naciones Unidas para la Alimentación y la Agricultura comunicó que las plantas constituyen el 80% de los alimentos que comemos y producen el 98% del oxígeno que respiramos, sin embargo, éstas se ven altamente afectadas por enfermedades o plagas, conformando una destrucción de hasta el 40% de los cultivos alimentarios mundiales y pérdidas comerciales en productos que superan los 220.000 millones de USD anuales (FAO, 2020).\n",
        "\n",
        "Considerando lo anterior, es altamente necesario realizar un monitoreo e identificación de presencia de afecciones o anomalías en las primeras etapas por medio de la clasificación de hojas de plantas que permitan tomar decisiones apropiadas para enfrentarlas. Usualmente, este tipo de clasificación se realiza por medio de la observación en campo y de ser necesario, mediante pruebas laboratoriales (Restrepo, 2007). Esta técnica de campo permite diagnosticar las enfermedades basadas en la experiencia, la cual requiere de tiempo y gran esfuerzo por parte de los especialistas (Lu, 2021).\n",
        "\n",
        "Por otra parte, un método que promete mucho en la resolución de problemas en diversos ámbitos es la utilización de técnicas y algoritmos de aprendizaje de máquinas y aprendizaje profundo, especialmente aquellos basados en redes neuronales convolucionales (RNC) que han ganado una amplia aceptación en las tareas de reconocimiento de imágenes y clasificación (Toda, 2019).\n",
        "\n",
        "Lu y otros (Lu, 2021) en su investigación “Review on Convolutional Neural Network (CNN) Applied to Plant Leaf Disease Classification” realizaron una exploración de modelos de RNC pertinentes a la clasificación de enfermedades de plantas, identificando los principios del aprendizaje profundo en la clasificación de éstas.\n",
        "\n",
        "De igual manera, Toda Y. y Okura. F (Toda, 2019) en su investigación “How Convolutional Neural Networks Diagnose Plant Diseasee” aplicaron una variedad de métodos de visualización de neuronas y capas utilizando redes neuronales convolucionales entrenadas con un conjunto de datos de imágenes de enfermedades de plantas obteniendo resultados prometedores.\n",
        "\n",
        "Este estudio, compone el desarrollo de varios modelos de RNC con parámetros ajustables que permitan controlar el proceso de entrenamiento, considerando, la cantidad de capas, optimizadores, tamaño de lote y arquitecturas pre-entrenadas para la clasificación de enfermedades de hojas en plantas conforme a las clases de Healthy (saludable), Powdery (polvorienta) y Rust (oxidada) para finalmente exponer los resultados obtenidos por éstos. \n"
      ],
      "metadata": {
        "id": "vLD60RmqZWZf"
      }
    },
    {
      "cell_type": "code",
      "execution_count": null,
      "metadata": {
        "id": "1Ubv9-aZnEri"
      },
      "outputs": [],
      "source": []
    },
    {
      "cell_type": "code",
      "source": [],
      "metadata": {
        "id": "KITQBuoPnjo6"
      },
      "execution_count": null,
      "outputs": []
    },
    {
      "cell_type": "code",
      "source": [],
      "metadata": {
        "id": "xLVsv3Ybnd17"
      },
      "execution_count": null,
      "outputs": []
    }
  ]
}