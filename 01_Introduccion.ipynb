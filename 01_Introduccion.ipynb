{
  "nbformat": 4,
  "nbformat_minor": 0,
  "metadata": {
    "colab": {
      "provenance": [],
      "authorship_tag": "ABX9TyN9eiCf6uPZq6ViN4E6JVYo",
      "include_colab_link": true
    },
    "kernelspec": {
      "name": "python3",
      "display_name": "Python 3"
    },
    "language_info": {
      "name": "python"
    }
  },
  "cells": [
    {
      "cell_type": "markdown",
      "metadata": {
        "id": "view-in-github",
        "colab_type": "text"
      },
      "source": [
        "<a href=\"https://colab.research.google.com/github/JLopez86/plant_disease/blob/main/01_Introduccion.ipynb\" target=\"_parent\"><img src=\"https://colab.research.google.com/assets/colab-badge.svg\" alt=\"Open In Colab\"/></a>"
      ]
    },
    {
      "cell_type": "markdown",
      "source": [
        "#Resumen"
      ],
      "metadata": {
        "id": "0y97UVA5nQ3m"
      }
    },
    {
      "cell_type": "code",
      "execution_count": null,
      "metadata": {
        "id": "1Ubv9-aZnEri"
      },
      "outputs": [],
      "source": []
    },
    {
      "cell_type": "markdown",
      "source": [
        "#Introducción"
      ],
      "metadata": {
        "id": "H0qIlGROnb6_"
      }
    },
    {
      "cell_type": "markdown",
      "source": [
        "Para el articulo, buscar información sobre:\n",
        "Kaggle, Fastai, Neptune, Tensorboard, google colab, redes neuronales convolucionales y transferencia de aprendizaje, ver modelos...."
      ],
      "metadata": {
        "id": "bHBVkgRcnnQZ"
      }
    },
    {
      "cell_type": "code",
      "source": [],
      "metadata": {
        "id": "KITQBuoPnjo6"
      },
      "execution_count": null,
      "outputs": []
    },
    {
      "cell_type": "code",
      "source": [],
      "metadata": {
        "id": "xLVsv3Ybnd17"
      },
      "execution_count": null,
      "outputs": []
    }
  ]
}