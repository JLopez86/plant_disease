{
  "nbformat": 4,
  "nbformat_minor": 0,
  "metadata": {
    "colab": {
      "provenance": [],
      "authorship_tag": "ABX9TyP5Bu+GoCr12wqzCMvCIYCZ",
      "include_colab_link": true
    },
    "kernelspec": {
      "name": "python3",
      "display_name": "Python 3"
    },
    "language_info": {
      "name": "python"
    }
  },
  "cells": [
    {
      "cell_type": "markdown",
      "metadata": {
        "id": "view-in-github",
        "colab_type": "text"
      },
      "source": [
        "<a href=\"https://colab.research.google.com/github/JLopez86/plant_disease/blob/main/01_Introduccion.ipynb\" target=\"_parent\"><img src=\"https://colab.research.google.com/assets/colab-badge.svg\" alt=\"Open In Colab\"/></a>"
      ]
    },
    {
      "cell_type": "markdown",
      "source": [
        "#Resumen"
      ],
      "metadata": {
        "id": "0y97UVA5nQ3m"
      }
    },
    {
      "cell_type": "code",
      "execution_count": null,
      "metadata": {
        "id": "1Ubv9-aZnEri"
      },
      "outputs": [],
      "source": []
    },
    {
      "cell_type": "markdown",
      "source": [
        "#Introducción"
      ],
      "metadata": {
        "id": "H0qIlGROnb6_"
      }
    },
    {
      "cell_type": "markdown",
      "source": [
        "El sector de producción de alimentos y más específicamente el de la agricultura puede verse afectado por la aparición de diversas enfermedades o anomalías en los cultivos que ponen en gran riesgo la seguridad alimentaria de la población mundial. Por lo tanto, la detección y clasificación con precisión de las anomalías presentes en las hojas de los cultivos es altamente necesaria para la toma de decisión en tiempo oportuno.  El objetivo central del presente reporte técnico fue modelar un algoritmo de aprendizaje profundo basado en redes neuronales convolucionales para la detección de enfermedades en hojas de plantas. La metodología empleada fue el desarrollo experimental de diversos modelos de aprendizaje profundo para en primer lugar, entrenar el modelo con los hiperparametros seleccionados como la cantidad de iteraciones, taza de aprendizaje, optimizadores, función de costos y la utilización de técnicas de transformación de datos y aprendizaje transferido sobre el conjunto de datos de enfermedades de plantas previamente recabados y etiquetados. Finalmente se expuso los resultados obtenidos en la predicción de imágenes de validación, constatándose que los mejores resultados fueron obtenidos por los modelos que utilizaron técnicas de aprendizaje transferido."
      ],
      "metadata": {
        "id": "bHBVkgRcnnQZ"
      }
    },
    {
      "cell_type": "code",
      "source": [],
      "metadata": {
        "id": "KITQBuoPnjo6"
      },
      "execution_count": null,
      "outputs": []
    },
    {
      "cell_type": "code",
      "source": [],
      "metadata": {
        "id": "xLVsv3Ybnd17"
      },
      "execution_count": null,
      "outputs": []
    }
  ]
}